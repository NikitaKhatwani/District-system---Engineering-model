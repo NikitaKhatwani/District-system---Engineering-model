{
 "cells": [
  {
   "cell_type": "code",
   "execution_count": 1,
   "metadata": {},
   "outputs": [
    {
     "name": "stdout",
     "output_type": "stream",
     "text": [
      "hi\n"
     ]
    }
   ],
   "source": [
    "print(\"hi\")"
   ]
  },
  {
   "cell_type": "code",
   "execution_count": 2,
   "metadata": {},
   "outputs": [],
   "source": [
    "from ucsbdistrict.building_mixing import MyClass"
   ]
  },
  {
   "cell_type": "code",
   "execution_count": 3,
   "metadata": {},
   "outputs": [],
   "source": [
    "a = MyClass(name=\"My instance of MyClass\")"
   ]
  },
  {
   "cell_type": "code",
   "execution_count": 4,
   "metadata": {},
   "outputs": [
    {
     "data": {
      "text/plain": [
       "ucsbdistrict.building_mixer.MyClass"
      ]
     },
     "execution_count": 4,
     "metadata": {},
     "output_type": "execute_result"
    }
   ],
   "source": [
    "type(a)"
   ]
  },
  {
   "cell_type": "code",
   "execution_count": 5,
   "metadata": {},
   "outputs": [
    {
     "data": {
      "text/plain": [
       "'My instance of MyClass'"
      ]
     },
     "execution_count": 5,
     "metadata": {},
     "output_type": "execute_result"
    }
   ],
   "source": [
    "a.name"
   ]
  },
  {
   "cell_type": "code",
   "execution_count": 6,
   "metadata": {},
   "outputs": [],
   "source": [
    "b = MyClass(name=\"My instance of MyClass\")"
   ]
  },
  {
   "cell_type": "code",
   "execution_count": 7,
   "metadata": {},
   "outputs": [
    {
     "data": {
      "text/plain": [
       "ucsbdistrict.building_mixer.MyClass"
      ]
     },
     "execution_count": 7,
     "metadata": {},
     "output_type": "execute_result"
    }
   ],
   "source": [
    "type(b)"
   ]
  },
  {
   "cell_type": "code",
   "execution_count": 8,
   "metadata": {},
   "outputs": [
    {
     "data": {
      "text/plain": [
       "True"
      ]
     },
     "execution_count": 8,
     "metadata": {},
     "output_type": "execute_result"
    }
   ],
   "source": [
    "a is not b"
   ]
  },
  {
   "cell_type": "code",
   "execution_count": 9,
   "metadata": {},
   "outputs": [
    {
     "data": {
      "text/plain": [
       "True"
      ]
     },
     "execution_count": 9,
     "metadata": {},
     "output_type": "execute_result"
    }
   ],
   "source": [
    "a.name == b.name"
   ]
  },
  {
   "cell_type": "code",
   "execution_count": 2,
   "metadata": {},
   "outputs": [
    {
     "name": "stdout",
     "output_type": "stream",
     "text": [
      "id=UUID('1f7acbca-e077-4cfe-874d-a188047e33c0') name='Boiler 1'\n"
     ]
    }
   ],
   "source": [
    "# directory_path = r\"C:\\Users\\nikita.khatwani\\Documents\\UCSB\\District sytem - Engineering model\\District system - Engineering model\"\n",
    "# import sys\n",
    "# sys.path.append(directory_path)\n",
    "from ucsbdistrict.building_mixing import MyClass, AnotherClass\n",
    "\n",
    "from ucsbdistrict.building_mixing import MyClassWithValidation\n",
    "\n",
    "# # from ucsbdistrict.building_mixer import MyClassWithValidation\n",
    "\n",
    "# # from ucsbdistrict.building_mixer import MyClassWithValidation\n",
    "# # Import MyClassWithValidation from a directory with spaces\n",
    "\n",
    "boiler = MyClass(name=\"Boiler 1\")\n",
    "boiler = MyClassWithValidation(name=\"Boiler 1\")\n",
    "print(boiler)"
   ]
  },
  {
   "cell_type": "code",
   "execution_count": null,
   "metadata": {},
   "outputs": [],
   "source": []
  },
  {
   "cell_type": "code",
   "execution_count": 11,
   "metadata": {},
   "outputs": [
    {
     "name": "stdout",
     "output_type": "stream",
     "text": [
      "['c:\\\\Users\\\\nikita.khatwani\\\\Documents\\\\UCSB\\\\District sytem - Engineering model\\\\District system - Engineering model', 'C:\\\\Program Files\\\\WindowsApps\\\\PythonSoftwareFoundation.Python.3.11_3.11.2544.0_x64__qbz5n2kfra8p0\\\\python311.zip', 'C:\\\\Program Files\\\\WindowsApps\\\\PythonSoftwareFoundation.Python.3.11_3.11.2544.0_x64__qbz5n2kfra8p0\\\\DLLs', 'C:\\\\Program Files\\\\WindowsApps\\\\PythonSoftwareFoundation.Python.3.11_3.11.2544.0_x64__qbz5n2kfra8p0\\\\Lib', 'C:\\\\Program Files\\\\WindowsApps\\\\PythonSoftwareFoundation.Python.3.11_3.11.2544.0_x64__qbz5n2kfra8p0', 'c:\\\\Users\\\\nikita.khatwani\\\\Documents\\\\UCSB\\\\District sytem - Engineering model\\\\District system - Engineering model\\\\.venv', '', 'c:\\\\Users\\\\nikita.khatwani\\\\Documents\\\\UCSB\\\\District sytem - Engineering model\\\\District system - Engineering model\\\\.venv\\\\Lib\\\\site-packages', 'c:\\\\Users\\\\nikita.khatwani\\\\Documents\\\\UCSB\\\\District sytem - Engineering model\\\\District system - Engineering model\\\\.venv\\\\Lib\\\\site-packages\\\\win32', 'c:\\\\Users\\\\nikita.khatwani\\\\Documents\\\\UCSB\\\\District sytem - Engineering model\\\\District system - Engineering model\\\\.venv\\\\Lib\\\\site-packages\\\\win32\\\\lib', 'c:\\\\Users\\\\nikita.khatwani\\\\Documents\\\\UCSB\\\\District sytem - Engineering model\\\\District system - Engineering model\\\\.venv\\\\Lib\\\\site-packages\\\\Pythonwin']\n"
     ]
    }
   ],
   "source": [
    "import sys\n",
    "print(sys.path)"
   ]
  }
 ],
 "metadata": {
  "kernelspec": {
   "display_name": ".venv",
   "language": "python",
   "name": "python3"
  },
  "language_info": {
   "codemirror_mode": {
    "name": "ipython",
    "version": 3
   },
   "file_extension": ".py",
   "mimetype": "text/x-python",
   "name": "python",
   "nbconvert_exporter": "python",
   "pygments_lexer": "ipython3",
   "version": "3.11.9"
  }
 },
 "nbformat": 4,
 "nbformat_minor": 2
}
